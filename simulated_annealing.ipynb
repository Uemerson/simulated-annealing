{
  "nbformat": 4,
  "nbformat_minor": 0,
  "metadata": {
    "colab": {
      "name": "simulated-annealing.ipynb",
      "provenance": [],
      "collapsed_sections": []
    },
    "kernelspec": {
      "name": "python3",
      "display_name": "Python 3"
    },
    "language_info": {
      "name": "python"
    }
  },
  "cells": [
    {
      "cell_type": "markdown",
      "metadata": {
        "id": "w8e-Jw-wGx9S"
      },
      "source": [
        "Implementação do algoritmo recozimento simulado \"simulated annealing\" para maximizar o resultado da seguinte equação matemática\n",
        "\n",
        "$$g(x) = {2} ^ {{-2}(\\frac{x-0.1}{0.9})^{2}}{(\\sin(5 \\pi x)) ^ 6} $$"
      ]
    }
  ]
}