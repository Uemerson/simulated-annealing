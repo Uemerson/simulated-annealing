{
  "nbformat": 4,
  "nbformat_minor": 0,
  "metadata": {
    "colab": {
      "name": "simulated-annealing.ipynb",
      "provenance": [],
      "collapsed_sections": [],
      "include_colab_link": true
    },
    "kernelspec": {
      "name": "python3",
      "display_name": "Python 3"
    },
    "language_info": {
      "name": "python"
    }
  },
  "cells": [
    {
      "cell_type": "markdown",
      "metadata": {
        "id": "view-in-github",
        "colab_type": "text"
      },
      "source": [
        "<a href=\"https://colab.research.google.com/github/Uemerson/simulated-annealing/blob/main/simulated_annealing.ipynb\" target=\"_parent\"><img src=\"https://colab.research.google.com/assets/colab-badge.svg\" alt=\"Open In Colab\"/></a>"
      ]
    },
    {
      "cell_type": "markdown",
      "metadata": {
        "id": "w8e-Jw-wGx9S"
      },
      "source": [
        "Implementação do algoritmo recozimento simulado \"simulated annealing\" para maximizar o resultado da seguinte equação matemática\n",
        "\n",
        "$$g(x) = {2} ^ {{-2}(\\frac{x-0.1}{0.9})^{2}}{(\\sin(5 \\pi x)) ^ 6} $$"
      ]
    },
    {
      "cell_type": "markdown",
      "metadata": {
        "id": "3ltqWSm8HoBR"
      },
      "source": [
        "Importando bibliotecas necessárias."
      ]
    },
    {
      "cell_type": "code",
      "metadata": {
        "id": "_vfNeXFSHnfh"
      },
      "source": [
        "import math\n",
        "import random\n",
        "import matplotlib.pyplot as plt\n",
        "import numpy as np\n",
        "%matplotlib inline"
      ],
      "execution_count": null,
      "outputs": []
    },
    {
      "cell_type": "markdown",
      "metadata": {
        "id": "JT9xiTcRH1vu"
      },
      "source": [
        "A função de custo é onde a avaliação do algoritmo acontece. Neste algoritmo a função de custo é dada simplesmente pelo resultado da equação que deve ser maximizado."
      ]
    },
    {
      "cell_type": "code",
      "metadata": {
        "id": "gQZnVFVlH3yQ"
      },
      "source": [
        "def cost_function (x):\n",
        "  cost = 2 ** -2 * (x - 0.1 / 0.9) ** 2 * (math.sin(5 * math.pi * x)) ** 6\n",
        "  return cost"
      ],
      "execution_count": null,
      "outputs": []
    },
    {
      "cell_type": "markdown",
      "metadata": {
        "id": "MmfyZiJ9BRjC"
      },
      "source": [
        "Esse função tem como objetivo realizar a perturbação no valor inicial, pode se um valor constante ou alguma outra formula, como por exemplo a gaussiana."
      ]
    },
    {
      "cell_type": "code",
      "metadata": {
        "id": "G5zU2gjWBSUa"
      },
      "source": [
        "def disturb (x, learning):\n",
        "  neighbors = []\n",
        "  learning = learning / 10 if learning >= 10 else 1\n",
        "  constant = 0.005 / learning\n",
        "\n",
        "  upper_neighbor = x + constant if x + constant < 1 else x\n",
        "  lower_neighbor = x - constant if x - constant > 0 else x\n",
        "\n",
        "  neighbors.append(upper_neighbor)\n",
        "  neighbors.append(lower_neighbor)\n",
        "\n",
        "  return neighbors"
      ],
      "execution_count": null,
      "outputs": []
    },
    {
      "cell_type": "markdown",
      "metadata": {
        "id": "FguRpGwXIEnH"
      },
      "source": [
        "Função para plotar os resultados."
      ]
    },
    {
      "cell_type": "code",
      "metadata": {
        "id": "3Riakn6xIFfS"
      },
      "source": [
        "def plot_results(results):\n",
        "    t = np.arange(0.0, len(results), 1)\n",
        "    \n",
        "    plt.figure(figsize=(12,8))\n",
        "    plt.plot(t, results)\n",
        "    plt.show()"
      ],
      "execution_count": null,
      "outputs": []
    }
  ]
}