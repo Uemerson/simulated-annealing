{
  "nbformat": 4,
  "nbformat_minor": 0,
  "metadata": {
    "colab": {
      "name": "simulated-annealing.ipynb",
      "provenance": [],
      "collapsed_sections": []
    },
    "kernelspec": {
      "name": "python3",
      "display_name": "Python 3"
    },
    "language_info": {
      "name": "python"
    }
  },
  "cells": [
    {
      "cell_type": "markdown",
      "metadata": {
        "id": "w8e-Jw-wGx9S"
      },
      "source": [
        "Implementação do algoritmo recozimento simulado \"simulated annealing\" para maximizar o resultado da seguinte equação matemática\n",
        "\n",
        "$$g(x) = {2} ^ {{-2}(\\frac{x-0.1}{0.9})^{2}}{(\\sin(5 \\pi x)) ^ 6} $$"
      ]
    },
    {
      "cell_type": "markdown",
      "metadata": {
        "id": "3ltqWSm8HoBR"
      },
      "source": [
        "Importando bibliotecas necessárias."
      ]
    },
    {
      "cell_type": "code",
      "metadata": {
        "id": "_vfNeXFSHnfh"
      },
      "source": [
        "import math\n",
        "import random\n",
        "import matplotlib.pyplot as plt\n",
        "import numpy as np\n",
        "%matplotlib inline"
      ],
      "execution_count": null,
      "outputs": []
    }
  ]
}